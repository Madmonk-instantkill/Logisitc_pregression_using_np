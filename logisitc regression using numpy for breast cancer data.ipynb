{
 "cells": [
  {
   "cell_type": "markdown",
   "metadata": {},
   "source": [
    "# Implementing Logistic Regression using only numpy"
   ]
  },
  {
   "cell_type": "code",
   "execution_count": 240,
   "metadata": {},
   "outputs": [],
   "source": [
    "import sklearn\n",
    "import numpy as np\n",
    "from sklearn.datasets import load_breast_cancer\n",
    "import pandas as pd\n",
    "breast_cancer=load_breast_cancer()"
   ]
  },
  {
   "cell_type": "code",
   "execution_count": 241,
   "metadata": {},
   "outputs": [
    {
     "name": "stderr",
     "output_type": "stream",
     "text": [
      "C:\\Users\\uamit\\Anaconda3\\lib\\site-packages\\ipykernel_launcher.py:34: RuntimeWarning: divide by zero encountered in log\n",
      "C:\\Users\\uamit\\Anaconda3\\lib\\site-packages\\ipykernel_launcher.py:36: RuntimeWarning: divide by zero encountered in log\n"
     ]
    },
    {
     "name": "stdout",
     "output_type": "stream",
     "text": [
      "[0.91739895] [47]\n"
     ]
    }
   ],
   "source": [
    "df1=pd.DataFrame(breast_cancer[\"data\"])\n",
    "df1.columns=breast_cancer[\"feature_names\"]\n",
    "df1[\"values\"]=breast_cancer[\"target\"]\n",
    "X_train=breast_cancer[\"data\"]\n",
    "Y_train=breast_cancer[\"target\"]\n",
    "Y_train=Y_train.reshape(-1,1)\n",
    "\n",
    "weights=np.zeros(shape=(30,1))\n",
    "d_weights=np.zeros(shape=(30,1))\n",
    "db=0\n",
    "m=X_train.shape[0]\n",
    "b=0\n",
    "J=0\n",
    "cost=[]\n",
    "learning_rate=0.01\n",
    "\n",
    "epohs=0\n",
    "\n",
    "while(epohs<1000):\n",
    "    \n",
    "    J=0\n",
    "\n",
    "    for i in range(0,len(X_train)):\n",
    "        k=X_train[i].reshape(-1,1)\n",
    "    \n",
    "        value=np.dot(k.T,weights)+b\n",
    "        sigmoid=1/(1+np.exp(-1*value))\n",
    "        if sigmoid>=0.5:\n",
    "            Y_obtained=1\n",
    "        else:\n",
    "            Y_obtained=0\n",
    "    \n",
    "        if Y_train[i]==0:\n",
    "            J+=-1*((1-Y_train[i])*np.log(1-Y_obtained))\n",
    "        else:\n",
    "            J+=-1*(Y_train[i])*np.log((Y_obtained))\n",
    "    \n",
    "        dz=Y_obtained-Y_train[i]\n",
    "        d_weights+=dz*k\n",
    "        db+=dz\n",
    "\n",
    "    J=J/m\n",
    "    d_weights=d_weights/m\n",
    "    db=db/m\n",
    "\n",
    "\n",
    "    weights=weights-learning_rate*(d_weights)   \n",
    "    b=b-learning_rate*(db)  \n",
    "    cost.append(J)\n",
    "    \n",
    "    epohs +=1\n",
    "    \n",
    "    \n",
    "    \n",
    "loss=0\n",
    "for i in range(0,len(X_train)):\n",
    "    z=X_train[i]\n",
    "    z=z.reshape(-1,1)\n",
    "    sigmoid=1/(1+np.exp(-1*(np.dot(z.T,weights)+b)))\n",
    "    if sigmoid>=0.5:\n",
    "        obtained=1\n",
    "    else:\n",
    "        obtained=0\n",
    "    loss+=np.abs(Y_train[i]-obtained)\n",
    "    \n",
    "accuracy=(X_train.shape[0]-loss)/X_train.shape[0]\n",
    "print(accuracy,loss)"
   ]
  },
  {
   "cell_type": "code",
   "execution_count": 242,
   "metadata": {},
   "outputs": [],
   "source": [
    "from sklearn.linear_model import LogisticRegression\n",
    "from sklearn.model_selection import train_test_split\n",
    "from sklearn.metrics import accuracy_score\n",
    "\n",
    "\n",
    "X,x,Y,y=train_test_split(X_train,Y_train,test_size=0.3,random_state=0)"
   ]
  },
  {
   "cell_type": "code",
   "execution_count": 243,
   "metadata": {},
   "outputs": [
    {
     "name": "stderr",
     "output_type": "stream",
     "text": [
      "C:\\Users\\uamit\\Anaconda3\\lib\\site-packages\\sklearn\\linear_model\\logistic.py:432: FutureWarning: Default solver will be changed to 'lbfgs' in 0.22. Specify a solver to silence this warning.\n",
      "  FutureWarning)\n",
      "C:\\Users\\uamit\\Anaconda3\\lib\\site-packages\\sklearn\\utils\\validation.py:724: DataConversionWarning: A column-vector y was passed when a 1d array was expected. Please change the shape of y to (n_samples, ), for example using ravel().\n",
      "  y = column_or_1d(y, warn=True)\n"
     ]
    },
    {
     "data": {
      "text/plain": [
       "0.9649122807017544"
      ]
     },
     "execution_count": 243,
     "metadata": {},
     "output_type": "execute_result"
    }
   ],
   "source": [
    "logi=LogisticRegression()\n",
    "logi.fit(X,Y)\n",
    "y_pred=logi.predict(x)\n",
    "accuracy_score(y,y_pred)"
   ]
  },
  {
   "cell_type": "code",
   "execution_count": 236,
   "metadata": {},
   "outputs": [],
   "source": []
  },
  {
   "cell_type": "code",
   "execution_count": 233,
   "metadata": {},
   "outputs": [],
   "source": []
  },
  {
   "cell_type": "code",
   "execution_count": 237,
   "metadata": {},
   "outputs": [
    {
     "data": {
      "text/plain": [
       "0.957286432160804"
      ]
     },
     "execution_count": 237,
     "metadata": {},
     "output_type": "execute_result"
    }
   ],
   "source": []
  }
 ],
 "metadata": {
  "kernelspec": {
   "display_name": "Python 3",
   "language": "python",
   "name": "python3"
  },
  "language_info": {
   "codemirror_mode": {
    "name": "ipython",
    "version": 3
   },
   "file_extension": ".py",
   "mimetype": "text/x-python",
   "name": "python",
   "nbconvert_exporter": "python",
   "pygments_lexer": "ipython3",
   "version": "3.7.4"
  }
 },
 "nbformat": 4,
 "nbformat_minor": 2
}
